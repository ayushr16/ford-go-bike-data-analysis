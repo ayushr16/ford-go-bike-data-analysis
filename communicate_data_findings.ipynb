{
 "cells": [
  {
   "cell_type": "markdown",
   "metadata": {
    "slideshow": {
     "slide_type": "slide"
    }
   },
   "source": [
    "# 2018 Bay Wheels Ride Data Exploration and Visualization\n",
    "### by Ayush Ranjan\n",
    "## Preliminary Wrangling\n",
    "\n",
    "> Bay Wheels (previously known as Ford GoBike) is a regional public bike sharing system in the San Francisco Bay Area, California. Bay Wheels is the first regional and large-scale bicycle sharing system deployed in California and on the West Coast of the United States with nearly 500,000 rides since the launch in 2017 and had about 10,000 annual subscribers as of January 2018. The dataset used for this exploratory analysis consists of monthly individual trip data of January 2018 in CSV format.We will be assessing the dataset questions such as:- What were the gender of people which used bikes more this month,whether there were more customers or subscribers,Which gender of people used the bike for more duration and many more."
   ]
  },
  {
   "cell_type": "markdown",
   "metadata": {
    "slideshow": {
     "slide_type": "slide"
    }
   },
   "source": [
    "### Gathering and Assessing Data\n",
    "\n",
    "> We will start off by importing the required libraries and reading the datset while printing a few lines of it."
   ]
  },
  {
   "cell_type": "code",
   "execution_count": 1,
   "metadata": {},
   "outputs": [],
   "source": [
    "# import all the required packages\n",
    "import numpy as np\n",
    "import pandas as pd\n",
    "import matplotlib.pyplot as plt\n",
    "import seaborn as sb\n",
    "%matplotlib inline"
   ]
  },
  {
   "cell_type": "code",
   "execution_count": 2,
   "metadata": {},
   "outputs": [],
   "source": [
    "df=pd.read_csv('201801-fordgobike-tripdata.csv')"
   ]
  },
  {
   "cell_type": "code",
   "execution_count": 3,
   "metadata": {
    "slideshow": {
     "slide_type": "subslide"
    }
   },
   "outputs": [
    {
     "data": {
      "text/html": [
       "<div>\n",
       "<style scoped>\n",
       "    .dataframe tbody tr th:only-of-type {\n",
       "        vertical-align: middle;\n",
       "    }\n",
       "\n",
       "    .dataframe tbody tr th {\n",
       "        vertical-align: top;\n",
       "    }\n",
       "\n",
       "    .dataframe thead th {\n",
       "        text-align: right;\n",
       "    }\n",
       "</style>\n",
       "<table border=\"1\" class=\"dataframe\">\n",
       "  <thead>\n",
       "    <tr style=\"text-align: right;\">\n",
       "      <th></th>\n",
       "      <th>duration_sec</th>\n",
       "      <th>start_time</th>\n",
       "      <th>end_time</th>\n",
       "      <th>start_station_id</th>\n",
       "      <th>start_station_name</th>\n",
       "      <th>start_station_latitude</th>\n",
       "      <th>start_station_longitude</th>\n",
       "      <th>end_station_id</th>\n",
       "      <th>end_station_name</th>\n",
       "      <th>end_station_latitude</th>\n",
       "      <th>end_station_longitude</th>\n",
       "      <th>bike_id</th>\n",
       "      <th>user_type</th>\n",
       "      <th>member_birth_year</th>\n",
       "      <th>member_gender</th>\n",
       "      <th>bike_share_for_all_trip</th>\n",
       "    </tr>\n",
       "  </thead>\n",
       "  <tbody>\n",
       "    <tr>\n",
       "      <th>0</th>\n",
       "      <td>75284</td>\n",
       "      <td>2018-01-31 22:52:35.2390</td>\n",
       "      <td>2018-02-01 19:47:19.8240</td>\n",
       "      <td>120</td>\n",
       "      <td>Mission Dolores Park</td>\n",
       "      <td>37.761420</td>\n",
       "      <td>-122.426435</td>\n",
       "      <td>285</td>\n",
       "      <td>Webster St at O'Farrell St</td>\n",
       "      <td>37.783521</td>\n",
       "      <td>-122.431158</td>\n",
       "      <td>2765</td>\n",
       "      <td>Subscriber</td>\n",
       "      <td>1986.0</td>\n",
       "      <td>Male</td>\n",
       "      <td>No</td>\n",
       "    </tr>\n",
       "    <tr>\n",
       "      <th>1</th>\n",
       "      <td>85422</td>\n",
       "      <td>2018-01-31 16:13:34.3510</td>\n",
       "      <td>2018-02-01 15:57:17.3100</td>\n",
       "      <td>15</td>\n",
       "      <td>San Francisco Ferry Building (Harry Bridges Pl...</td>\n",
       "      <td>37.795392</td>\n",
       "      <td>-122.394203</td>\n",
       "      <td>15</td>\n",
       "      <td>San Francisco Ferry Building (Harry Bridges Pl...</td>\n",
       "      <td>37.795392</td>\n",
       "      <td>-122.394203</td>\n",
       "      <td>2815</td>\n",
       "      <td>Customer</td>\n",
       "      <td>NaN</td>\n",
       "      <td>NaN</td>\n",
       "      <td>No</td>\n",
       "    </tr>\n",
       "    <tr>\n",
       "      <th>2</th>\n",
       "      <td>71576</td>\n",
       "      <td>2018-01-31 14:23:55.8890</td>\n",
       "      <td>2018-02-01 10:16:52.1160</td>\n",
       "      <td>304</td>\n",
       "      <td>Jackson St at 5th St</td>\n",
       "      <td>37.348759</td>\n",
       "      <td>-121.894798</td>\n",
       "      <td>296</td>\n",
       "      <td>5th St at Virginia St</td>\n",
       "      <td>37.325998</td>\n",
       "      <td>-121.877120</td>\n",
       "      <td>3039</td>\n",
       "      <td>Customer</td>\n",
       "      <td>1996.0</td>\n",
       "      <td>Male</td>\n",
       "      <td>No</td>\n",
       "    </tr>\n",
       "    <tr>\n",
       "      <th>3</th>\n",
       "      <td>61076</td>\n",
       "      <td>2018-01-31 14:53:23.5620</td>\n",
       "      <td>2018-02-01 07:51:20.5000</td>\n",
       "      <td>75</td>\n",
       "      <td>Market St at Franklin St</td>\n",
       "      <td>37.773793</td>\n",
       "      <td>-122.421239</td>\n",
       "      <td>47</td>\n",
       "      <td>4th St at Harrison St</td>\n",
       "      <td>37.780955</td>\n",
       "      <td>-122.399749</td>\n",
       "      <td>321</td>\n",
       "      <td>Customer</td>\n",
       "      <td>NaN</td>\n",
       "      <td>NaN</td>\n",
       "      <td>No</td>\n",
       "    </tr>\n",
       "    <tr>\n",
       "      <th>4</th>\n",
       "      <td>39966</td>\n",
       "      <td>2018-01-31 19:52:24.6670</td>\n",
       "      <td>2018-02-01 06:58:31.0530</td>\n",
       "      <td>74</td>\n",
       "      <td>Laguna St at Hayes St</td>\n",
       "      <td>37.776435</td>\n",
       "      <td>-122.426244</td>\n",
       "      <td>19</td>\n",
       "      <td>Post St at Kearny St</td>\n",
       "      <td>37.788975</td>\n",
       "      <td>-122.403452</td>\n",
       "      <td>617</td>\n",
       "      <td>Subscriber</td>\n",
       "      <td>1991.0</td>\n",
       "      <td>Male</td>\n",
       "      <td>No</td>\n",
       "    </tr>\n",
       "  </tbody>\n",
       "</table>\n",
       "</div>"
      ],
      "text/plain": [
       "   duration_sec                start_time                  end_time  \\\n",
       "0         75284  2018-01-31 22:52:35.2390  2018-02-01 19:47:19.8240   \n",
       "1         85422  2018-01-31 16:13:34.3510  2018-02-01 15:57:17.3100   \n",
       "2         71576  2018-01-31 14:23:55.8890  2018-02-01 10:16:52.1160   \n",
       "3         61076  2018-01-31 14:53:23.5620  2018-02-01 07:51:20.5000   \n",
       "4         39966  2018-01-31 19:52:24.6670  2018-02-01 06:58:31.0530   \n",
       "\n",
       "   start_station_id                                 start_station_name  \\\n",
       "0               120                               Mission Dolores Park   \n",
       "1                15  San Francisco Ferry Building (Harry Bridges Pl...   \n",
       "2               304                               Jackson St at 5th St   \n",
       "3                75                           Market St at Franklin St   \n",
       "4                74                              Laguna St at Hayes St   \n",
       "\n",
       "   start_station_latitude  start_station_longitude  end_station_id  \\\n",
       "0               37.761420              -122.426435             285   \n",
       "1               37.795392              -122.394203              15   \n",
       "2               37.348759              -121.894798             296   \n",
       "3               37.773793              -122.421239              47   \n",
       "4               37.776435              -122.426244              19   \n",
       "\n",
       "                                    end_station_name  end_station_latitude  \\\n",
       "0                         Webster St at O'Farrell St             37.783521   \n",
       "1  San Francisco Ferry Building (Harry Bridges Pl...             37.795392   \n",
       "2                              5th St at Virginia St             37.325998   \n",
       "3                              4th St at Harrison St             37.780955   \n",
       "4                               Post St at Kearny St             37.788975   \n",
       "\n",
       "   end_station_longitude  bike_id   user_type  member_birth_year  \\\n",
       "0            -122.431158     2765  Subscriber             1986.0   \n",
       "1            -122.394203     2815    Customer                NaN   \n",
       "2            -121.877120     3039    Customer             1996.0   \n",
       "3            -122.399749      321    Customer                NaN   \n",
       "4            -122.403452      617  Subscriber             1991.0   \n",
       "\n",
       "  member_gender bike_share_for_all_trip  \n",
       "0          Male                      No  \n",
       "1           NaN                      No  \n",
       "2          Male                      No  \n",
       "3           NaN                      No  \n",
       "4          Male                      No  "
      ]
     },
     "execution_count": 3,
     "metadata": {},
     "output_type": "execute_result"
    }
   ],
   "source": [
    "df.head()"
   ]
  },
  {
   "cell_type": "markdown",
   "metadata": {
    "slideshow": {
     "slide_type": "slide"
    }
   },
   "source": [
    "> We will check whether the values of all columns are present or not."
   ]
  },
  {
   "cell_type": "code",
   "execution_count": 4,
   "metadata": {
    "slideshow": {
     "slide_type": "subslide"
    }
   },
   "outputs": [
    {
     "name": "stdout",
     "output_type": "stream",
     "text": [
      "<class 'pandas.core.frame.DataFrame'>\n",
      "RangeIndex: 94802 entries, 0 to 94801\n",
      "Data columns (total 16 columns):\n",
      " #   Column                   Non-Null Count  Dtype  \n",
      "---  ------                   --------------  -----  \n",
      " 0   duration_sec             94802 non-null  int64  \n",
      " 1   start_time               94802 non-null  object \n",
      " 2   end_time                 94802 non-null  object \n",
      " 3   start_station_id         94802 non-null  int64  \n",
      " 4   start_station_name       94802 non-null  object \n",
      " 5   start_station_latitude   94802 non-null  float64\n",
      " 6   start_station_longitude  94802 non-null  float64\n",
      " 7   end_station_id           94802 non-null  int64  \n",
      " 8   end_station_name         94802 non-null  object \n",
      " 9   end_station_latitude     94802 non-null  float64\n",
      " 10  end_station_longitude    94802 non-null  float64\n",
      " 11  bike_id                  94802 non-null  int64  \n",
      " 12  user_type                94802 non-null  object \n",
      " 13  member_birth_year        86963 non-null  float64\n",
      " 14  member_gender            87001 non-null  object \n",
      " 15  bike_share_for_all_trip  94802 non-null  object \n",
      "dtypes: float64(5), int64(4), object(7)\n",
      "memory usage: 9.0+ MB\n"
     ]
    }
   ],
   "source": [
    "df.info()"
   ]
  },
  {
   "cell_type": "markdown",
   "metadata": {
    "slideshow": {
     "slide_type": "slide"
    }
   },
   "source": [
    "> Now we will try to investigate more about the data and get a understanding about it."
   ]
  },
  {
   "cell_type": "code",
   "execution_count": 5,
   "metadata": {
    "slideshow": {
     "slide_type": "subslide"
    }
   },
   "outputs": [
    {
     "data": {
      "text/html": [
       "<div>\n",
       "<style scoped>\n",
       "    .dataframe tbody tr th:only-of-type {\n",
       "        vertical-align: middle;\n",
       "    }\n",
       "\n",
       "    .dataframe tbody tr th {\n",
       "        vertical-align: top;\n",
       "    }\n",
       "\n",
       "    .dataframe thead th {\n",
       "        text-align: right;\n",
       "    }\n",
       "</style>\n",
       "<table border=\"1\" class=\"dataframe\">\n",
       "  <thead>\n",
       "    <tr style=\"text-align: right;\">\n",
       "      <th></th>\n",
       "      <th>duration_sec</th>\n",
       "      <th>start_station_id</th>\n",
       "      <th>start_station_latitude</th>\n",
       "      <th>start_station_longitude</th>\n",
       "      <th>end_station_id</th>\n",
       "      <th>end_station_latitude</th>\n",
       "      <th>end_station_longitude</th>\n",
       "      <th>bike_id</th>\n",
       "      <th>member_birth_year</th>\n",
       "    </tr>\n",
       "  </thead>\n",
       "  <tbody>\n",
       "    <tr>\n",
       "      <th>count</th>\n",
       "      <td>94802.000000</td>\n",
       "      <td>94802.000000</td>\n",
       "      <td>94802.000000</td>\n",
       "      <td>94802.000000</td>\n",
       "      <td>94802.00000</td>\n",
       "      <td>94802.000000</td>\n",
       "      <td>94802.000000</td>\n",
       "      <td>94802.000000</td>\n",
       "      <td>86963.000000</td>\n",
       "    </tr>\n",
       "    <tr>\n",
       "      <th>mean</th>\n",
       "      <td>870.935930</td>\n",
       "      <td>103.766302</td>\n",
       "      <td>37.773321</td>\n",
       "      <td>-122.361677</td>\n",
       "      <td>101.00982</td>\n",
       "      <td>37.773536</td>\n",
       "      <td>-122.360776</td>\n",
       "      <td>2048.751609</td>\n",
       "      <td>1980.932420</td>\n",
       "    </tr>\n",
       "    <tr>\n",
       "      <th>std</th>\n",
       "      <td>2550.596891</td>\n",
       "      <td>87.730464</td>\n",
       "      <td>0.085744</td>\n",
       "      <td>0.105253</td>\n",
       "      <td>86.77949</td>\n",
       "      <td>0.085552</td>\n",
       "      <td>0.104580</td>\n",
       "      <td>1091.507513</td>\n",
       "      <td>10.803017</td>\n",
       "    </tr>\n",
       "    <tr>\n",
       "      <th>min</th>\n",
       "      <td>61.000000</td>\n",
       "      <td>3.000000</td>\n",
       "      <td>37.317298</td>\n",
       "      <td>-122.444293</td>\n",
       "      <td>3.00000</td>\n",
       "      <td>37.317298</td>\n",
       "      <td>-122.444293</td>\n",
       "      <td>11.000000</td>\n",
       "      <td>1900.000000</td>\n",
       "    </tr>\n",
       "    <tr>\n",
       "      <th>25%</th>\n",
       "      <td>359.000000</td>\n",
       "      <td>30.000000</td>\n",
       "      <td>37.771662</td>\n",
       "      <td>-122.412408</td>\n",
       "      <td>27.00000</td>\n",
       "      <td>37.773063</td>\n",
       "      <td>-122.411306</td>\n",
       "      <td>1133.000000</td>\n",
       "      <td>1975.000000</td>\n",
       "    </tr>\n",
       "    <tr>\n",
       "      <th>50%</th>\n",
       "      <td>555.000000</td>\n",
       "      <td>79.000000</td>\n",
       "      <td>37.781270</td>\n",
       "      <td>-122.398773</td>\n",
       "      <td>76.00000</td>\n",
       "      <td>37.781752</td>\n",
       "      <td>-122.398436</td>\n",
       "      <td>2151.500000</td>\n",
       "      <td>1983.000000</td>\n",
       "    </tr>\n",
       "    <tr>\n",
       "      <th>75%</th>\n",
       "      <td>854.000000</td>\n",
       "      <td>160.000000</td>\n",
       "      <td>37.795392</td>\n",
       "      <td>-122.390428</td>\n",
       "      <td>157.00000</td>\n",
       "      <td>37.795392</td>\n",
       "      <td>-122.390428</td>\n",
       "      <td>3015.000000</td>\n",
       "      <td>1989.000000</td>\n",
       "    </tr>\n",
       "    <tr>\n",
       "      <th>max</th>\n",
       "      <td>85546.000000</td>\n",
       "      <td>342.000000</td>\n",
       "      <td>37.880222</td>\n",
       "      <td>-121.874119</td>\n",
       "      <td>342.00000</td>\n",
       "      <td>37.880222</td>\n",
       "      <td>-121.874119</td>\n",
       "      <td>3744.000000</td>\n",
       "      <td>2000.000000</td>\n",
       "    </tr>\n",
       "  </tbody>\n",
       "</table>\n",
       "</div>"
      ],
      "text/plain": [
       "       duration_sec  start_station_id  start_station_latitude  \\\n",
       "count  94802.000000      94802.000000            94802.000000   \n",
       "mean     870.935930        103.766302               37.773321   \n",
       "std     2550.596891         87.730464                0.085744   \n",
       "min       61.000000          3.000000               37.317298   \n",
       "25%      359.000000         30.000000               37.771662   \n",
       "50%      555.000000         79.000000               37.781270   \n",
       "75%      854.000000        160.000000               37.795392   \n",
       "max    85546.000000        342.000000               37.880222   \n",
       "\n",
       "       start_station_longitude  end_station_id  end_station_latitude  \\\n",
       "count             94802.000000     94802.00000          94802.000000   \n",
       "mean               -122.361677       101.00982             37.773536   \n",
       "std                   0.105253        86.77949              0.085552   \n",
       "min                -122.444293         3.00000             37.317298   \n",
       "25%                -122.412408        27.00000             37.773063   \n",
       "50%                -122.398773        76.00000             37.781752   \n",
       "75%                -122.390428       157.00000             37.795392   \n",
       "max                -121.874119       342.00000             37.880222   \n",
       "\n",
       "       end_station_longitude       bike_id  member_birth_year  \n",
       "count           94802.000000  94802.000000       86963.000000  \n",
       "mean             -122.360776   2048.751609        1980.932420  \n",
       "std                 0.104580   1091.507513          10.803017  \n",
       "min              -122.444293     11.000000        1900.000000  \n",
       "25%              -122.411306   1133.000000        1975.000000  \n",
       "50%              -122.398436   2151.500000        1983.000000  \n",
       "75%              -122.390428   3015.000000        1989.000000  \n",
       "max              -121.874119   3744.000000        2000.000000  "
      ]
     },
     "execution_count": 5,
     "metadata": {},
     "output_type": "execute_result"
    }
   ],
   "source": [
    "df.describe()"
   ]
  },
  {
   "cell_type": "code",
   "execution_count": 6,
   "metadata": {
    "slideshow": {
     "slide_type": "subslide"
    }
   },
   "outputs": [
    {
     "data": {
      "text/plain": [
       "duration_sec                4512\n",
       "start_time                 94801\n",
       "end_time                   94797\n",
       "start_station_id             273\n",
       "start_station_name           273\n",
       "start_station_latitude       273\n",
       "start_station_longitude      273\n",
       "end_station_id               272\n",
       "end_station_name             272\n",
       "end_station_latitude         272\n",
       "end_station_longitude        272\n",
       "bike_id                     3065\n",
       "user_type                      2\n",
       "member_birth_year             72\n",
       "member_gender                  3\n",
       "bike_share_for_all_trip        2\n",
       "dtype: int64"
      ]
     },
     "execution_count": 6,
     "metadata": {},
     "output_type": "execute_result"
    }
   ],
   "source": [
    "df.nunique()"
   ]
  },
  {
   "cell_type": "code",
   "execution_count": 7,
   "metadata": {
    "slideshow": {
     "slide_type": "subslide"
    }
   },
   "outputs": [
    {
     "data": {
      "text/plain": [
       "Male      65508\n",
       "Female    20298\n",
       "Other      1195\n",
       "Name: member_gender, dtype: int64"
      ]
     },
     "execution_count": 7,
     "metadata": {},
     "output_type": "execute_result"
    }
   ],
   "source": [
    "df.member_gender.value_counts()"
   ]
  },
  {
   "cell_type": "code",
   "execution_count": 8,
   "metadata": {
    "slideshow": {
     "slide_type": "subslide"
    }
   },
   "outputs": [
    {
     "data": {
      "text/plain": [
       "Subscriber    82458\n",
       "Customer      12344\n",
       "Name: user_type, dtype: int64"
      ]
     },
     "execution_count": 8,
     "metadata": {},
     "output_type": "execute_result"
    }
   ],
   "source": [
    "df.user_type.value_counts()"
   ]
  },
  {
   "cell_type": "code",
   "execution_count": 9,
   "metadata": {
    "slideshow": {
     "slide_type": "subslide"
    }
   },
   "outputs": [
    {
     "data": {
      "text/plain": [
       "0"
      ]
     },
     "execution_count": 9,
     "metadata": {},
     "output_type": "execute_result"
    }
   ],
   "source": [
    "sum(df.duplicated())"
   ]
  },
  {
   "cell_type": "markdown",
   "metadata": {
    "slideshow": {
     "slide_type": "skip"
    }
   },
   "source": [
    "### Cleaning Data\n",
    "> We will drop all the rows with missing values from the dataset."
   ]
  },
  {
   "cell_type": "code",
   "execution_count": 10,
   "metadata": {},
   "outputs": [],
   "source": [
    "df.dropna(inplace=True)"
   ]
  },
  {
   "cell_type": "markdown",
   "metadata": {},
   "source": [
    "> We will check again whether the values were dropped or not."
   ]
  },
  {
   "cell_type": "code",
   "execution_count": 11,
   "metadata": {},
   "outputs": [
    {
     "data": {
      "text/plain": [
       "duration_sec               0\n",
       "start_time                 0\n",
       "end_time                   0\n",
       "start_station_id           0\n",
       "start_station_name         0\n",
       "start_station_latitude     0\n",
       "start_station_longitude    0\n",
       "end_station_id             0\n",
       "end_station_name           0\n",
       "end_station_latitude       0\n",
       "end_station_longitude      0\n",
       "bike_id                    0\n",
       "user_type                  0\n",
       "member_birth_year          0\n",
       "member_gender              0\n",
       "bike_share_for_all_trip    0\n",
       "dtype: int64"
      ]
     },
     "execution_count": 11,
     "metadata": {},
     "output_type": "execute_result"
    }
   ],
   "source": [
    "df.isnull().sum()"
   ]
  },
  {
   "cell_type": "markdown",
   "metadata": {},
   "source": [
    "> The type of user_type and member_gender must be converted to the category type."
   ]
  },
  {
   "cell_type": "code",
   "execution_count": 12,
   "metadata": {},
   "outputs": [],
   "source": [
    "df['user_type'] = df['user_type'].astype('category')\n",
    "df['member_gender'] = df['member_gender'].astype('category')"
   ]
  },
  {
   "cell_type": "markdown",
   "metadata": {},
   "source": [
    "> We will check whether the conversion was successful or not."
   ]
  },
  {
   "cell_type": "code",
   "execution_count": 13,
   "metadata": {},
   "outputs": [
    {
     "data": {
      "text/plain": [
       "duration_sec                  int64\n",
       "start_time                   object\n",
       "end_time                     object\n",
       "start_station_id              int64\n",
       "start_station_name           object\n",
       "start_station_latitude      float64\n",
       "start_station_longitude     float64\n",
       "end_station_id                int64\n",
       "end_station_name             object\n",
       "end_station_latitude        float64\n",
       "end_station_longitude       float64\n",
       "bike_id                       int64\n",
       "user_type                  category\n",
       "member_birth_year           float64\n",
       "member_gender              category\n",
       "bike_share_for_all_trip      object\n",
       "dtype: object"
      ]
     },
     "execution_count": 13,
     "metadata": {},
     "output_type": "execute_result"
    }
   ],
   "source": [
    "df.dtypes"
   ]
  },
  {
   "cell_type": "markdown",
   "metadata": {},
   "source": [
    "> We will create two new columns with values age and duration in minutes for the ease in visualising the info provided to us."
   ]
  },
  {
   "cell_type": "code",
   "execution_count": 14,
   "metadata": {},
   "outputs": [],
   "source": [
    "df['age']=2020-df['member_birth_year']"
   ]
  },
  {
   "cell_type": "code",
   "execution_count": 15,
   "metadata": {},
   "outputs": [],
   "source": [
    "df['duration_minute'] = df['duration_sec']/60"
   ]
  },
  {
   "cell_type": "markdown",
   "metadata": {},
   "source": [
    "> We will now check whether the columns were added or not."
   ]
  },
  {
   "cell_type": "code",
   "execution_count": 16,
   "metadata": {},
   "outputs": [
    {
     "name": "stdout",
     "output_type": "stream",
     "text": [
      "<class 'pandas.core.frame.DataFrame'>\n",
      "Int64Index: 86963 entries, 0 to 94801\n",
      "Data columns (total 18 columns):\n",
      " #   Column                   Non-Null Count  Dtype   \n",
      "---  ------                   --------------  -----   \n",
      " 0   duration_sec             86963 non-null  int64   \n",
      " 1   start_time               86963 non-null  object  \n",
      " 2   end_time                 86963 non-null  object  \n",
      " 3   start_station_id         86963 non-null  int64   \n",
      " 4   start_station_name       86963 non-null  object  \n",
      " 5   start_station_latitude   86963 non-null  float64 \n",
      " 6   start_station_longitude  86963 non-null  float64 \n",
      " 7   end_station_id           86963 non-null  int64   \n",
      " 8   end_station_name         86963 non-null  object  \n",
      " 9   end_station_latitude     86963 non-null  float64 \n",
      " 10  end_station_longitude    86963 non-null  float64 \n",
      " 11  bike_id                  86963 non-null  int64   \n",
      " 12  user_type                86963 non-null  category\n",
      " 13  member_birth_year        86963 non-null  float64 \n",
      " 14  member_gender            86963 non-null  category\n",
      " 15  bike_share_for_all_trip  86963 non-null  object  \n",
      " 16  age                      86963 non-null  float64 \n",
      " 17  duration_minute          86963 non-null  float64 \n",
      "dtypes: category(2), float64(7), int64(4), object(5)\n",
      "memory usage: 9.8+ MB\n"
     ]
    }
   ],
   "source": [
    "df.info()"
   ]
  },
  {
   "cell_type": "markdown",
   "metadata": {
    "slideshow": {
     "slide_type": "slide"
    }
   },
   "source": [
    "### What is the structure of your dataset?\n",
    "\n",
    "The original combined data contains approximately 94,000 individual trip records with 16 variables collected. The variables can be divided into 3 major categories:\n",
    "- trip duration: `duration_sec`, `start_time`, `end_time`\n",
    "\n",
    "\n",
    "- station info: `start_station_id`, `start_station_name`, `start_station_latitude`, `start_station_longitude`, `end_station_id`, `end_station_name`, `end_station_latitude`, `end_station_longitude`\n",
    "\n",
    "\n",
    "- member info: `bike_id`, `user_type`, `member_birth_year`, `member_gender`, `bike_share_for_all_trip`\n",
    "\n",
    "- Derived features/variables to assist exploration and analysis: `duration_minute`,`age`\n",
    "\n",
    "### What is/are the main feature(s) of interest in your dataset?\n",
    "\n",
    "I'm most interested in exploring the user types which used the services whether they were subscribers or customers,The age of the members using the service, the duration for which they used the service and the gender of the members which used the services and compare these together with each other.\n",
    "\n",
    "### What features in the dataset do you think will help support your investigation into your feature(s) of interest?\n",
    "\n",
    "Each trip's duration information will help understanding how long a trip usually takes. The member information like user type, gender and age will help us find out who are our main customer groups, use the different groups to summarize bike usage data to see if there is any correlation among them and we relate it to a specific group of riders.\n",
    "\n",
    "> We will start the visualisation process now by making a copy of the cleaned dataset and check whether the information is correctly loaded or not."
   ]
  },
  {
   "cell_type": "code",
   "execution_count": 17,
   "metadata": {},
   "outputs": [],
   "source": [
    "biketrip=df.copy()"
   ]
  },
  {
   "cell_type": "code",
   "execution_count": 18,
   "metadata": {},
   "outputs": [
    {
     "name": "stdout",
     "output_type": "stream",
     "text": [
      "<class 'pandas.core.frame.DataFrame'>\n",
      "Int64Index: 86963 entries, 0 to 94801\n",
      "Data columns (total 18 columns):\n",
      " #   Column                   Non-Null Count  Dtype   \n",
      "---  ------                   --------------  -----   \n",
      " 0   duration_sec             86963 non-null  int64   \n",
      " 1   start_time               86963 non-null  object  \n",
      " 2   end_time                 86963 non-null  object  \n",
      " 3   start_station_id         86963 non-null  int64   \n",
      " 4   start_station_name       86963 non-null  object  \n",
      " 5   start_station_latitude   86963 non-null  float64 \n",
      " 6   start_station_longitude  86963 non-null  float64 \n",
      " 7   end_station_id           86963 non-null  int64   \n",
      " 8   end_station_name         86963 non-null  object  \n",
      " 9   end_station_latitude     86963 non-null  float64 \n",
      " 10  end_station_longitude    86963 non-null  float64 \n",
      " 11  bike_id                  86963 non-null  int64   \n",
      " 12  user_type                86963 non-null  category\n",
      " 13  member_birth_year        86963 non-null  float64 \n",
      " 14  member_gender            86963 non-null  category\n",
      " 15  bike_share_for_all_trip  86963 non-null  object  \n",
      " 16  age                      86963 non-null  float64 \n",
      " 17  duration_minute          86963 non-null  float64 \n",
      "dtypes: category(2), float64(7), int64(4), object(5)\n",
      "memory usage: 9.8+ MB\n"
     ]
    }
   ],
   "source": [
    "biketrip.info()"
   ]
  },
  {
   "cell_type": "markdown",
   "metadata": {
    "slideshow": {
     "slide_type": "slide"
    }
   },
   "source": [
    "## Uni-Variate Plots"
   ]
  },
  {
   "cell_type": "markdown",
   "metadata": {
    "slideshow": {
     "slide_type": "subslide"
    }
   },
   "source": [
    "### Which type of members used the services more?\n",
    "\n",
    "> We will plot the graph between types of users that are Customers and Subscribers to determine which are more in numberss."
   ]
  },
  {
   "cell_type": "code",
   "execution_count": 19,
   "metadata": {
    "slideshow": {
     "slide_type": "subslide"
    }
   },
   "outputs": [
    {
     "data": {
      "image/png": "[encoded data removed]",
      "text/plain": [
       "<Figure size 432x288 with 1 Axes>"
      ]
     },
     "metadata": {
      "needs_background": "light"
     },
     "output_type": "display_data"
    }
   ],
   "source": [
    "sb.countplot(x='user_type', data=biketrip)\n",
    "plt.title('The comparison between the user types and their count')\n",
    "plt.show()"
   ]
  },
  {
   "cell_type": "markdown",
   "metadata": {
    "slideshow": {
     "slide_type": "subslide"
    }
   },
   "source": [
    "> **Observation:-** We can clearly observe from the above graph that the number of subscribers are very much than the number of customers which clearly shows that most of the users were subscribers and use the services regularly. "
   ]
  },
  {
   "cell_type": "markdown",
   "metadata": {
    "slideshow": {
     "slide_type": "subslide"
    }
   },
   "source": [
    "### Which age group used the services most?\n",
    "\n",
    "> We will plot the age of the members with the number of users from that group and decide which age group was most active in using these services."
   ]
  },
  {
   "cell_type": "code",
   "execution_count": 20,
   "metadata": {
    "slideshow": {
     "slide_type": "subslide"
    }
   },
   "outputs": [
    {
     "data": {
      "image/png": "[encoded data removed]",
      "text/plain": [
       "<Figure size 432x288 with 1 Axes>"
      ]
     },
     "metadata": {
      "needs_background": "light"
     },
     "output_type": "display_data"
    }
   ],
   "source": [
    "sb.distplot(biketrip.age, kde=False, rug=True);\n",
    "plt.ylabel('Count');\n",
    "plt.title('Comparison between the number of users of each age');"
   ]
  },
  {
   "cell_type": "markdown",
   "metadata": {
    "slideshow": {
     "slide_type": "subslide"
    }
   },
   "source": [
    "> **Observation:-** We can clearly see from the above graph that the age group of 30-40 has used the services the most while the age group of 70-80 used the services least."
   ]
  },
  {
   "cell_type": "markdown",
   "metadata": {
    "slideshow": {
     "slide_type": "slide"
    }
   },
   "source": [
    "## Bi-Variate Plots:"
   ]
  },
  {
   "cell_type": "markdown",
   "metadata": {
    "slideshow": {
     "slide_type": "subslide"
    }
   },
   "source": [
    "### Which type of user used the services for longer time?\n",
    "\n",
    "> We will find the graph between the user types and the time duration for which the services were availed. "
   ]
  },
  {
   "cell_type": "code",
   "execution_count": 22,
   "metadata": {
    "slideshow": {
     "slide_type": "subslide"
    }
   },
   "outputs": [
    {
     "data": {
      "image/png": "[encoded data removed]",
      "text/plain": [
       "<Figure size 432x288 with 1 Axes>"
      ]
     },
     "metadata": {},
     "output_type": "display_data"
    }
   ],
   "source": [
    "sb.set(style=\"whitegrid\")\n",
    "sb.violinplot(data=biketrip, x='user_type', y='duration_minute', inner='quartile');\n",
    "plt.title('Trip duration vs types of users.');\n",
    "plt.xlabel('User Type');\n",
    "plt.ylabel('Trip Duration in Minute');"
   ]
  },
  {
   "cell_type": "markdown",
   "metadata": {
    "slideshow": {
     "slide_type": "subslide"
    }
   },
   "source": [
    "> we observed that this is because of the outliers present in the dataset,we will ignore those outliers because we have to focus on the values for normal analysis.\n",
    "\n",
    "> We will now try to study the duration a bit more."
   ]
  },
  {
   "cell_type": "code",
   "execution_count": 23,
   "metadata": {
    "slideshow": {
     "slide_type": "subslide"
    }
   },
   "outputs": [
    {
     "data": {
      "text/plain": [
       "count    86963.000000\n",
       "mean        12.139881\n",
       "std         30.022394\n",
       "min          1.016667\n",
       "25%          5.850000\n",
       "50%          8.933333\n",
       "75%         13.450000\n",
       "max       1410.150000\n",
       "Name: duration_minute, dtype: float64"
      ]
     },
     "execution_count": 23,
     "metadata": {},
     "output_type": "execute_result"
    }
   ],
   "source": [
    "biketrip['duration_minute'].describe()"
   ]
  },
  {
   "cell_type": "markdown",
   "metadata": {
    "slideshow": {
     "slide_type": "subslide"
    }
   },
   "source": [
    "> From the above info we can gather that almost 75% of the data is under 14 and the mean is 12 still we will manage for the duration till 1 hour and remove all the values above 65 from the dataset.\n",
    "\n",
    "> After the removal of the outliers plot the graph again in the same way as above."
   ]
  },
  {
   "cell_type": "code",
   "execution_count": 24,
   "metadata": {
    "slideshow": {
     "slide_type": "subslide"
    }
   },
   "outputs": [
    {
     "name": "stdout",
     "output_type": "stream",
     "text": [
      "<class 'pandas.core.frame.DataFrame'>\n",
      "Int64Index: 86319 entries, 6 to 94801\n",
      "Data columns (total 18 columns):\n",
      " #   Column                   Non-Null Count  Dtype   \n",
      "---  ------                   --------------  -----   \n",
      " 0   duration_sec             86319 non-null  int64   \n",
      " 1   start_time               86319 non-null  object  \n",
      " 2   end_time                 86319 non-null  object  \n",
      " 3   start_station_id         86319 non-null  int64   \n",
      " 4   start_station_name       86319 non-null  object  \n",
      " 5   start_station_latitude   86319 non-null  float64 \n",
      " 6   start_station_longitude  86319 non-null  float64 \n",
      " 7   end_station_id           86319 non-null  int64   \n",
      " 8   end_station_name         86319 non-null  object  \n",
      " 9   end_station_latitude     86319 non-null  float64 \n",
      " 10  end_station_longitude    86319 non-null  float64 \n",
      " 11  bike_id                  86319 non-null  int64   \n",
      " 12  user_type                86319 non-null  category\n",
      " 13  member_birth_year        86319 non-null  float64 \n",
      " 14  member_gender            86319 non-null  category\n",
      " 15  bike_share_for_all_trip  86319 non-null  object  \n",
      " 16  age                      86319 non-null  float64 \n",
      " 17  duration_minute          86319 non-null  float64 \n",
      "dtypes: category(2), float64(7), int64(4), object(5)\n",
      "memory usage: 9.7+ MB\n"
     ]
    }
   ],
   "source": [
    "biketrip = biketrip.query('duration_minute <= 65')\n",
    "biketrip.info(null_counts=True)"
   ]
  },
  {
   "cell_type": "code",
   "execution_count": 25,
   "metadata": {
    "slideshow": {
     "slide_type": "subslide"
    }
   },
   "outputs": [
    {
     "data": {
      "image/png": "[encoded data removed]",
      "text/plain": [
       "<Figure size 432x288 with 1 Axes>"
      ]
     },
     "metadata": {},
     "output_type": "display_data"
    }
   ],
   "source": [
    "sb.set(style=\"whitegrid\")\n",
    "sb.violinplot(data=biketrip, x='user_type', y='duration_minute', inner='quartile');\n",
    "plt.title('Trip duration vs types of users.');\n",
    "plt.xlabel('User Type');\n",
    "plt.ylabel('Trip Duration in Minute');"
   ]
  },
  {
   "cell_type": "markdown",
   "metadata": {
    "slideshow": {
     "slide_type": "subslide"
    }
   },
   "source": [
    "> **Observation:-** We can clearly observe from the above graph that the trip duration was less for for the subscribers while with the increase with increase in duration time the Customer plot became more broad as compared to the subscriber plot.\n",
    "\n",
    "> We also observed that the subscribers are using the sevices more for less duration while the customers are using them for more time as well."
   ]
  },
  {
   "cell_type": "markdown",
   "metadata": {
    "slideshow": {
     "slide_type": "subslide"
    }
   },
   "source": [
    "### Which gender uses the services more and at which age?"
   ]
  },
  {
   "cell_type": "markdown",
   "metadata": {
    "slideshow": {
     "slide_type": "subslide"
    }
   },
   "source": [
    "> We will plot the violin plot between the age and the gender of the members to determine which gender was using the services at which age."
   ]
  },
  {
   "cell_type": "code",
   "execution_count": 27,
   "metadata": {
    "slideshow": {
     "slide_type": "subslide"
    }
   },
   "outputs": [
    {
     "data": {
      "image/png": "[encoded data removed]",
      "text/plain": [
       "<Figure size 432x288 with 1 Axes>"
      ]
     },
     "metadata": {},
     "output_type": "display_data"
    }
   ],
   "source": [
    "data = biketrip[['member_gender', 'age']][biketrip.age < 80]\n",
    "plt.title('Trip duration vs types of users.');\n",
    "sb.violinplot(data=data, x='member_gender', y='age', color=sb.color_palette()[0]);"
   ]
  },
  {
   "cell_type": "markdown",
   "metadata": {
    "slideshow": {
     "slide_type": "subslide"
    }
   },
   "source": [
    ">**observation:-** We can clearly see that the females between age group 30-35 where using the services more than the men and other gender.In the same way we can visualise the same for all the other age groups as well."
   ]
  },
  {
   "cell_type": "markdown",
   "metadata": {
    "slideshow": {
     "slide_type": "slide"
    }
   },
   "source": [
    "## Multi-Variate Plots:"
   ]
  },
  {
   "cell_type": "markdown",
   "metadata": {
    "slideshow": {
     "slide_type": "subslide"
    }
   },
   "source": [
    "### The age and gender distribution based on the user type:\n",
    "\n",
    "> We will plot the gender of the gender vs age bar plot for both the user types to clearly see the data."
   ]
  },
  {
   "cell_type": "code",
   "execution_count": 26,
   "metadata": {
    "slideshow": {
     "slide_type": "subslide"
    }
   },
   "outputs": [
    {
     "data": {
      "text/plain": [
       "<seaborn.axisgrid.FacetGrid at 0x1a268de6d0>"
      ]
     },
     "execution_count": 26,
     "metadata": {},
     "output_type": "execute_result"
    },
    {
     "data": {
      "image/png": "[encoded data removed]",
      "text/plain": [
       "<Figure size 524.6x432 with 1 Axes>"
      ]
     },
     "metadata": {},
     "output_type": "display_data"
    }
   ],
   "source": [
    "g = sb.catplot(x=\"member_gender\", y=\"age\", hue=\"user_type\", data=biketrip,\n",
    "                height=6, kind=\"bar\", palette=\"muted\");\n",
    "plt.title(\"Age vs member distribution of different user types\");\n",
    "g.despine(left=True)\n",
    "g.set_ylabels(\"Age\")"
   ]
  },
  {
   "cell_type": "markdown",
   "metadata": {
    "slideshow": {
     "slide_type": "subslide"
    }
   },
   "source": [
    "> **Observation:-** We can clearly see that the age of the subscribers are more than the customers for all the genders and the others category of gender use these services despite being more aged than the males and females. "
   ]
  },
  {
   "cell_type": "markdown",
   "metadata": {
    "slideshow": {
     "slide_type": "slide"
    }
   },
   "source": [
    "# Thank You"
   ]
  },
  {
   "cell_type": "code",
   "execution_count": null,
   "metadata": {},
   "outputs": [],
   "source": []
  }
 ],
 "metadata": {
  "celltoolbar": "Slideshow",
  "kernelspec": {
   "display_name": "Python 3",
   "language": "python",
   "name": "python3"
  },
  "language_info": {
   "codemirror_mode": {
    "name": "ipython",
    "version": 3
   },
   "file_extension": ".py",
   "mimetype": "text/x-python",
   "name": "python",
   "nbconvert_exporter": "python",
   "pygments_lexer": "ipython3",
   "version": "3.7.6"
  }
 },
 "nbformat": 4,
 "nbformat_minor": 4
}
